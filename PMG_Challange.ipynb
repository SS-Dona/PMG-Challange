{
 "cells": [
  {
   "cell_type": "code",
   "execution_count": null,
   "metadata": {},
   "outputs": [],
   "source": [
    "import os\n",
    "import glob\n",
    "import pandas as pd\n",
    "\n",
    "# saving the path to a variable\n",
    "path =\"/PMG/fixtures\"\n",
    "\n",
    "# gives the list of file names in the directory\n",
    "filenames = os.listdir(path)\n",
    "\n",
    "master_df = pd.DataFrame()\n",
    "for i in filenames:\n",
    "    file_path = path + '\\\\' + i\n",
    "    print(file_path)\n",
    "    \n",
    "    #read data from the file path\n",
    "    temp_df = pd.read_csv(file_path)\n",
    "    \n",
    "    # use below step only if you would like to remove the extension of the filename (here '.csv') before adding it to as a column else replace right hand side with i\n",
    "    temp_filename = i.split('.')[0]\n",
    "    \n",
    "    # adding a new column 'filename'\n",
    "    temp_df['filename'] = temp_filename\n",
    "    \n",
    "    # adding the data to master dataframe\n",
    "    master_df = pd.concat([master_df, temp_df])\n",
    "    \n",
    "    write_path = path+'\\\\'+'combined_file.csv'\n",
    "\n",
    "    master_df.to_csv(write_path, index = 0)"
   ]
  }
 ],
 "metadata": {
  "language_info": {
   "name": "python"
  },
  "orig_nbformat": 4
 },
 "nbformat": 4,
 "nbformat_minor": 2
}
